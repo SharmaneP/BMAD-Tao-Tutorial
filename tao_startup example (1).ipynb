{
 "cells": [
  {
   "cell_type": "markdown",
   "metadata": {},
   "source": [
    "$DIST_BASE_DIR = /mnt/c/Users/Sharmane/Downloads/bmad_dist_2020_0623"
   ]
  },
  {
   "cell_type": "code",
   "execution_count": 4,
   "metadata": {},
   "outputs": [
    {
     "name": "stdout",
     "output_type": "stream",
     "text": [
      "C:\\Users\\Sharmane\\Downloads\n"
     ]
    }
   ],
   "source": [
    "cd C:\\Users\\Sharmane\\Downloads"
   ]
  },
  {
   "cell_type": "code",
   "execution_count": 5,
   "metadata": {},
   "outputs": [
    {
     "name": "stdout",
     "output_type": "stream",
     "text": [
      " Volume in drive C has no label.\n",
      " Volume Serial Number is 8263-D374\n",
      "\n",
      " Directory of C:\\Users\\Sharmane\\Downloads\n",
      "\n"
     ]
    },
    {
     "name": "stderr",
     "output_type": "stream",
     "text": [
      "File Not Found\n"
     ]
    }
   ],
   "source": [
    "ls Downloads"
   ]
  },
  {
   "cell_type": "markdown",
   "metadata": {},
   "source": [
    "this <ls> command doesn't work the same in this notebook. "
   ]
  },
  {
   "cell_type": "code",
   "execution_count": 6,
   "metadata": {},
   "outputs": [
    {
     "name": "stdout",
     "output_type": "stream",
     "text": [
      "C:\\Users\\Sharmane\\Downloads\\bmad_dist_2020_0623\n"
     ]
    }
   ],
   "source": [
    "cd bmad_dist_2020_0623"
   ]
  },
  {
   "cell_type": "code",
   "execution_count": 7,
   "metadata": {},
   "outputs": [
    {
     "name": "stdout",
     "output_type": "stream",
     "text": [
      "C:\\Users\\Sharmane\\Downloads\\bmad_dist_2020_0623\\examples\n"
     ]
    }
   ],
   "source": [
    "cd examples"
   ]
  },
  {
   "cell_type": "code",
   "execution_count": 8,
   "metadata": {},
   "outputs": [
    {
     "name": "stdout",
     "output_type": "stream",
     "text": [
      "C:\\Users\\Sharmane\\Downloads\\bmad_dist_2020_0623\\examples\\tutorial_bmad_tao\n"
     ]
    }
   ],
   "source": [
    "cd tutorial_bmad_tao/"
   ]
  },
  {
   "cell_type": "code",
   "execution_count": 9,
   "metadata": {},
   "outputs": [
    {
     "name": "stdout",
     "output_type": "stream",
     "text": [
      "C:\\Users\\Sharmane\\Downloads\\bmad_dist_2020_0623\\examples\\tutorial_bmad_tao\\lattice_files\n"
     ]
    }
   ],
   "source": [
    "cd lattice_files/"
   ]
  },
  {
   "cell_type": "markdown",
   "metadata": {},
   "source": [
    "Lines [4] through [9] demostrate getting into this folder where the 'simple.bmad' file is."
   ]
  },
  {
   "cell_type": "code",
   "execution_count": 16,
   "metadata": {},
   "outputs": [
    {
     "ename": "SyntaxError",
     "evalue": "invalid syntax (<ipython-input-16-6afd00cfdf04>, line 1)",
     "output_type": "error",
     "traceback": [
      "\u001b[1;36m  File \u001b[1;32m\"<ipython-input-16-6afd00cfdf04>\"\u001b[1;36m, line \u001b[1;32m1\u001b[0m\n\u001b[1;33m    tao -lat simple.bmad\u001b[0m\n\u001b[1;37m                  ^\u001b[0m\n\u001b[1;31mSyntaxError\u001b[0m\u001b[1;31m:\u001b[0m invalid syntax\n"
     ]
    }
   ],
   "source": [
    "tao -lat simple.bmad"
   ]
  },
  {
   "cell_type": "markdown",
   "metadata": {},
   "source": [
    "this command will trigger some plots in a seperate window (Xming)\n",
    "        --> Not able to run tao commands in this notebook- \n",
    "        not sure why.\n",
    "            Does work in terminal."
   ]
  },
  {
   "cell_type": "code",
   "execution_count": null,
   "metadata": {},
   "outputs": [],
   "source": []
  }
 ],
 "metadata": {
  "kernelspec": {
   "display_name": "Python 3",
   "language": "python",
   "name": "python3"
  },
  "language_info": {
   "codemirror_mode": {
    "name": "ipython",
    "version": 3
   },
   "file_extension": ".py",
   "mimetype": "text/x-python",
   "name": "python",
   "nbconvert_exporter": "python",
   "pygments_lexer": "ipython3",
   "version": "3.7.6"
  }
 },
 "nbformat": 4,
 "nbformat_minor": 4
}
