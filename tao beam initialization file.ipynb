{
 "cells": [
  {
   "cell_type": "code",
   "execution_count": null,
   "metadata": {},
   "outputs": [],
   "source": [
    "&tao_start\n",
    "  plot_file = 'tao_plot.init' \n",
    "  startup_file = 'tao.startup'\n",
    "/"
   ]
  },
  {
   "cell_type": "markdown",
   "metadata": {},
   "source": [
    "###### Line1: Identifies/names the namelist \n",
    "##### Line2&3: assigned variables. Here instead of assigning variables (left of = sign) numerical values-- they are assigned files (right of = sign)\n",
    "##### Line4: ends block"
   ]
  },
  {
   "cell_type": "markdown",
   "metadata": {},
   "source": [
    "##### !Beam Initialization "
   ]
  },
  {
   "cell_type": "code",
   "execution_count": null,
   "metadata": {},
   "outputs": [],
   "source": [
    "&tao_design_lattice\n",
    "  n_universes =1\n",
    " ! unique_name_suffix=\"*::_?\"\n",
    "  design_lattice(1)%file = \"lat.bmad\"\n",
    "/"
   ]
  },
  {
   "cell_type": "markdown",
   "metadata": {},
   "source": [
    "##### Line1: names namelist\n",
    "##### Line2: assigns variable\n",
    "##### Line3: comment? or assigned variable? [not so sure]\n",
    "##### Line4:assigned variable 'lat.bmad' ? [not so sure]\n",
    "##### Line5: ends block"
   ]
  }
 ],
 "metadata": {
  "kernelspec": {
   "display_name": "Python 3",
   "language": "python",
   "name": "python3"
  },
  "language_info": {
   "codemirror_mode": {
    "name": "ipython",
    "version": 3
   },
   "file_extension": ".py",
   "mimetype": "text/x-python",
   "name": "python",
   "nbconvert_exporter": "python",
   "pygments_lexer": "ipython3",
   "version": "3.7.6"
  }
 },
 "nbformat": 4,
 "nbformat_minor": 4
}
