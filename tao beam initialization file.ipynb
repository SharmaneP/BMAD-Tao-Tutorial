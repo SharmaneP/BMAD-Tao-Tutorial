{
 "cells": [
  {
   "cell_type": "code",
   "execution_count": null,
   "metadata": {},
   "outputs": [],
   "source": [
    "cd  /Users/Sharmane/Downloads/bmad_dist_2020_0623/tao/examples/optics_matching/"
   ]
  },
  {
   "cell_type": "code",
   "execution_count": 6,
   "metadata": {},
   "outputs": [
    {
     "ename": "SyntaxError",
     "evalue": "invalid syntax (<ipython-input-6-be934a8f4ed9>, line 1)",
     "output_type": "error",
     "traceback": [
      "\u001b[1;36m  File \u001b[1;32m\"<ipython-input-6-be934a8f4ed9>\"\u001b[1;36m, line \u001b[1;32m1\u001b[0m\n\u001b[1;33m    vim tao.init\u001b[0m\n\u001b[1;37m          ^\u001b[0m\n\u001b[1;31mSyntaxError\u001b[0m\u001b[1;31m:\u001b[0m invalid syntax\n"
     ]
    }
   ],
   "source": [
    "vim tao.init"
   ]
  },
  {
   "cell_type": "markdown",
   "metadata": {},
   "source": [
    "##### Not sure how to close this vim file once I am finished with it. I tried esc :w because I did not want to save the changes. This does not work on this type of file for some reason like it would the others. I am still investigating this for a resolve."
   ]
  },
  {
   "cell_type": "code",
   "execution_count": null,
   "metadata": {},
   "outputs": [],
   "source": [
    "&tao_start\n",
    "  plot_file = 'tao_plot.init' \n",
    "  startup_file = 'tao.startup'\n",
    "/"
   ]
  },
  {
   "cell_type": "markdown",
   "metadata": {},
   "source": [
    "###### Line1: Identifies/names the namelist \n",
    "##### Line2&3: assigned variables. Here instead of assigning variables (left of = sign) numerical values-- they are assigned files (right of = sign)\n",
    "##### Line4: ends block"
   ]
  },
  {
   "cell_type": "markdown",
   "metadata": {},
   "source": [
    "##### !Beam Initialization "
   ]
  },
  {
   "cell_type": "code",
   "execution_count": null,
   "metadata": {},
   "outputs": [],
   "source": [
    "&tao_design_lattice\n",
    "  n_universes =1\n",
    " ! unique_name_suffix=\"*::_?\"  # can I get rid of this? yes it is a comment.\n",
    "  design_lattice(1)%file = \"lat.bmad\" #the 1 universe is lat.bmad & it matches the single character 'file' ?\n",
    "/"
   ]
  },
  {
   "cell_type": "markdown",
   "metadata": {},
   "source": [
    "##### Line1: names namelist\n",
    "##### Line2: assigns variable of 1 universe to the parameter n_universe. Total 1 universe\n",
    "##### Line3: comment? \n",
    "##### Line4: assigns 1 universe to design_lattice(1)\n",
    "##### Line5: ends block"
   ]
  },
  {
   "cell_type": "code",
   "execution_count": null,
   "metadata": {},
   "outputs": [],
   "source": [
    "!tao -init tao.init"
   ]
  },
  {
   "cell_type": "markdown",
   "metadata": {},
   "source": [
    "##### Running this will prompt a pop out window of the plot in Xming."
   ]
  }
 ],
 "metadata": {
  "kernelspec": {
   "display_name": "Python 3",
   "language": "python",
   "name": "python3"
  },
  "language_info": {
   "codemirror_mode": {
    "name": "ipython",
    "version": 3
   },
   "file_extension": ".py",
   "mimetype": "text/x-python",
   "name": "python",
   "nbconvert_exporter": "python",
   "pygments_lexer": "ipython3",
   "version": "3.7.6"
  }
 },
 "nbformat": 4,
 "nbformat_minor": 4
}
