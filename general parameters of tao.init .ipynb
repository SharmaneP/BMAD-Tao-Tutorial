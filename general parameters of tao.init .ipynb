{
 "cells": [
  {
   "cell_type": "code",
   "execution_count": null,
   "metadata": {},
   "outputs": [],
   "source": [
    "&tao_start  #!Name of this namelist\n",
    "startup_file = \"setup.tao\"  #! startup_file is the parameter and setup.tao is the value which is an initialization file\n",
    "/"
   ]
  },
  {
   "cell_type": "code",
   "execution_count": null,
   "metadata": {},
   "outputs": [],
   "source": [
    "& tao_design_lattice  #Name of this namelist\n",
    "n_universes = 1  #n_universe is the parameter and 1 is the value\n",
    "design_lattice (1)% file = \"lat.bmad\"  #design_lattice is the parameter. 1 universe will be used and the lattice file name for that universe is lat.bmad (this is the value)\n",
    "/"
   ]
  },
  {
   "cell_type": "code",
   "execution_count": null,
   "metadata": {},
   "outputs": [],
   "source": [
    "&tao_plot_page\n",
    "plot_page %size = 500, 400\n",
    "place (1) = \"layout\", \" lat_layout \"\n",
    "place (2) = \"r12\", \"beta\"\n",
    "place (3) = \"r22\", \"key\"\n",
    "/"
   ]
  },
  {
   "cell_type": "markdown",
   "metadata": {},
   "source": [
    "###### The tao_plot_page is a namelist that sets plotting parameters.\n",
    "##### The setting of plot_page%size overrides the default size of the plot window and the place(1), place(2), and place(3) settings define initial placement of plots "
   ]
  }
 ],
 "metadata": {
  "kernelspec": {
   "display_name": "Python 3",
   "language": "python",
   "name": "python3"
  },
  "language_info": {
   "codemirror_mode": {
    "name": "ipython",
    "version": 3
   },
   "file_extension": ".py",
   "mimetype": "text/x-python",
   "name": "python",
   "nbconvert_exporter": "python",
   "pygments_lexer": "ipython3",
   "version": "3.7.6"
  }
 },
 "nbformat": 4,
 "nbformat_minor": 4
}
