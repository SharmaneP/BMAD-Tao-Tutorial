{
 "cells": [
  {
   "cell_type": "code",
   "execution_count": null,
   "metadata": {},
   "outputs": [],
   "source": [
    "beginning[beta_a] = 10.   ! m  a-mode beta function\n",
    "beginning[beta_b] = 10.   ! m  b-mode beta function\n",
    "beginning[e_tot] = 10e6   ! eV   Or can set p0c"
   ]
  },
  {
   "cell_type": "markdown",
   "metadata": {},
   "source": [
    "###### beginning[e_tot] parameter sets the reference total energy at the beginning of the lattice.                                                                                           I assume the beginning[beta_a(&b)] sets the reference total for those variables"
   ]
  },
  {
   "cell_type": "code",
   "execution_count": null,
   "metadata": {},
   "outputs": [],
   "source": [
    "parameter[geometry] = open      ! or closed\n",
    "parameter[particle] = electron  ! Default is positron"
   ]
  },
  {
   "cell_type": "markdown",
   "metadata": {},
   "source": [
    "###### particle we are referencing. Ex. if its set to 12C+3 that's triple charges carbon-12. In this case we are using the default particle, positron."
   ]
  },
  {
   "cell_type": "code",
   "execution_count": null,
   "metadata": {},
   "outputs": [],
   "source": [
    "d: drift, L = 0.5\n",
    "b: sbend, L = 0.5, g = 1    ! g = 1 / bending_radius\n",
    "q: quadrupole, L = 0.6, k1 = 0.23"
   ]
  },
  {
   "cell_type": "markdown",
   "metadata": {},
   "source": [
    "###### drift element is a lattice for a field of free region. sbend is a dipole bend and q is a quadrupole"
   ]
  },
  {
   "cell_type": "code",
   "execution_count": null,
   "metadata": {},
   "outputs": [],
   "source": [
    "lat: line = (d, b, q)   ! List of lattice elements\n",
    "use, lat                ! Line used to construct the lattice"
   ]
  },
  {
   "cell_type": "markdown",
   "metadata": {},
   "source": [
    "###### lat:line is a list of elements that the beam goes through. lines are used to define this ordered list. Then use,lat in a lattice that identifies the certain line used to the construct a lattice"
   ]
  }
 ],
 "metadata": {
  "kernelspec": {
   "display_name": "Python 3",
   "language": "python",
   "name": "python3"
  },
  "language_info": {
   "codemirror_mode": {
    "name": "ipython",
    "version": 3
   },
   "file_extension": ".py",
   "mimetype": "text/x-python",
   "name": "python",
   "nbconvert_exporter": "python",
   "pygments_lexer": "ipython3",
   "version": "3.7.6"
  }
 },
 "nbformat": 4,
 "nbformat_minor": 4
}
