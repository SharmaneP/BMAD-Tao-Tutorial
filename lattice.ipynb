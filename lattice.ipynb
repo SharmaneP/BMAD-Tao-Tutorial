{
 "cells": [
  {
   "cell_type": "markdown",
   "metadata": {},
   "source": [
    "# Tao python lattice functions"
   ]
  },
  {
   "cell_type": "code",
   "execution_count": 1,
   "metadata": {},
   "outputs": [],
   "source": [
    "from pytao import Tao, util\n",
    "from pytao.util import parse_bool\n",
    "import os"
   ]
  },
  {
   "cell_type": "code",
   "execution_count": 2,
   "metadata": {},
   "outputs": [
    {
     "name": "stdout",
     "output_type": "stream",
     "text": [
      "Bmad installation:  /Users/chrisonian/Code/bmad_svn/\n"
     ]
    }
   ],
   "source": [
    "# Point to local installation\n",
    "BASE_DIR=os.environ['ACC_ROOT_DIR'] \n",
    "print('Bmad installation: ', BASE_DIR)\n",
    "\n",
    "\n",
    "# Pick an example init\n",
    "root = BASE_DIR+'tao/examples/cesr/'\n",
    "os.chdir(root)\n",
    "init = root+'tao.init'\n",
    "# Make tao instance\n",
    "tao=Tao()   \n",
    "tao.init('-noplot -init '+init);"
   ]
  },
  {
   "cell_type": "markdown",
   "metadata": {},
   "source": [
    "---\n",
    "# branch1\n",
    "```\n",
    "!----------------------------------------------------------------------\n",
    "! Lattice element list.\n",
    "! Command syntax:\n",
    "!   python branch1 {ix_universe}@{ix_branch}\n",
    "! where\n",
    "!   {ix_universe} is a universe index\n",
    "!   {ix_branch} is a lattice branch index\n",
    "```"
   ]
  },
  {
   "cell_type": "code",
   "execution_count": 3,
   "metadata": {},
   "outputs": [
    {
     "data": {
      "text/plain": [
       "['name;STR;F;CESR',\n",
       " 'ix_branch;INT;F;0',\n",
       " 'ix_from_branch;INT;F;-1',\n",
       " 'ix_from_ele;INT;F;-1',\n",
       " 'param.n_part;REAL;F;  0.0000000000000000E+00',\n",
       " 'param.total_length;REAL;F;  7.6842642141616830E+02',\n",
       " 'param.unstable_factor;REAL;F;  0.0000000000000000E+00',\n",
       " 'param.particle;STR;F;Electron',\n",
       " 'param.default_tracking_species;INT;F;Ref_Particle',\n",
       " 'param.geometry;INT;F;2',\n",
       " 'param.ixx;INT;F;0',\n",
       " 'param.stable;LOGIC;F;T',\n",
       " 'param.backwards_time_tracking;LOGIC;F;F']"
      ]
     },
     "execution_count": 3,
     "metadata": {},
     "output_type": "execute_result"
    }
   ],
   "source": [
    "tao.cmd('python branch1 1@0')"
   ]
  },
  {
   "cell_type": "markdown",
   "metadata": {},
   "source": [
    "---\n",
    "# global\n",
    "```\n",
    "!----------------------------------------------------------------------\n",
    "! Global parameters\n",
    "! Command syntax: \n",
    "!   python global\n",
    "! Output syntax is variable list form. See documentation at beginning of this file.\n",
    "```"
   ]
  },
  {
   "cell_type": "code",
   "execution_count": 4,
   "metadata": {},
   "outputs": [
    {
     "data": {
      "text/plain": [
       "['lm_opt_deriv_reinit;REAL;T; -1.0000000000000000E+00',\n",
       " 'de_lm_step_ratio;REAL;T;  1.0000000000000000E+00',\n",
       " 'de_var_to_population_factor;REAL;T;  5.0000000000000000E+00',\n",
       " 'lmdif_eps;REAL;T;  9.9999999600419720E-13',\n",
       " 'svd_cutoff;REAL;T;  9.9999997473787516E-06',\n",
       " 'unstable_penalty;REAL;T;  1.0000000474974513E-03',\n",
       " 'merit_stop_value;REAL;T; -1.0000000000000000E+00',\n",
       " 'dmerit_stop_value;REAL;T;  0.0000000000000000E+00',\n",
       " 'random_sigma_cutoff;REAL;T; -1.0000000000000000E+00',\n",
       " 'delta_e_chrom;REAL;T;  1.0000000000000000E-04',\n",
       " 'n_opti_cycles;INT;T;20',\n",
       " 'n_opti_loops;INT;T;1',\n",
       " 'phase_units;INT;T;1',\n",
       " 'bunch_to_plot;INT;T;1',\n",
       " 'random_seed;INT;T;0',\n",
       " 'n_top10_merit;INT;T;10',\n",
       " 'random_engine;STR;T;pseudo',\n",
       " 'random_gauss_converter;STR;T;exact',\n",
       " 'track_type;STR;T;single',\n",
       " 'prompt_string;STR;T;Tao',\n",
       " 'prompt_color;STR;T;DEFAULT',\n",
       " 'optimizer;STR;T;de',\n",
       " 'print_command;STR;T;lpr',\n",
       " 'var_out_file;STR;T;var#.out',\n",
       " 'opt_with_ref;LOGIC;T;F',\n",
       " 'opt_with_base;LOGIC;T;F',\n",
       " 'label_lattice_elements;LOGIC;T;T',\n",
       " 'label_keys;LOGIC;T;T',\n",
       " 'concatenate_maps;LOGIC;T;F',\n",
       " 'derivative_recalc;LOGIC;T;T',\n",
       " 'derivative_uses_design;LOGIC;T;F',\n",
       " 'orm_analysis;LOGIC;T;F',\n",
       " 'plot_on;LOGIC;T;F',\n",
       " 'lattice_calc_on;LOGIC;T;T',\n",
       " 'svd_retreat_on_merit_increase;LOGIC;T;T',\n",
       " 'stop_on_error;LOGIC;T;T',\n",
       " 'box_plots;LOGIC;T;F',\n",
       " 'beam_timer_on;LOGIC;T;F',\n",
       " 'var_limits_on;LOGIC;T;T',\n",
       " 'only_limit_opt_vars;LOGIC;T;F',\n",
       " 'optimizer_var_limit_warn;LOGIC;T;T',\n",
       " 'rf_on;LOGIC;T;F',\n",
       " 'draw_curve_off_scale_warn;LOGIC;T;T',\n",
       " 'wait_for_cr_in_single_mode;LOGIC;T;F',\n",
       " 'disable_smooth_line_calc;LOGIC;T;F',\n",
       " 'debug_on;LOGIC;T;F']"
      ]
     },
     "execution_count": 4,
     "metadata": {},
     "output_type": "execute_result"
    }
   ],
   "source": [
    "tao.cmd('python global')"
   ]
  },
  {
   "cell_type": "markdown",
   "metadata": {},
   "source": [
    "---\n",
    "# lat_ele_list\n",
    "```\n",
    "!----------------------------------------------------------------------\n",
    "! Lattice element list.\n",
    "! Command syntax:\n",
    "!   python lat_ele {branch_name}\n",
    "! {branch_name} should have the form:\n",
    "!   {ix_uni}@{ix_branch}\n",
    "```"
   ]
  },
  {
   "cell_type": "code",
   "execution_count": 5,
   "metadata": {},
   "outputs": [
    {
     "data": {
      "text/plain": [
       "['0;BEGINNING',\n",
       " '1;IP_L0',\n",
       " '2;CLEO_SOL#3',\n",
       " '3;DET_00W',\n",
       " '4;CLEO_SOL#4',\n",
       " '5;Q00W\\\\CLEO_SOL',\n",
       " '6;Q00W#1',\n",
       " '7;D003',\n",
       " '8;DET_01W',\n",
       " '9;D004']"
      ]
     },
     "execution_count": 5,
     "metadata": {},
     "output_type": "execute_result"
    }
   ],
   "source": [
    "tao.cmd('python lat_ele_list 1@0')[0:10]"
   ]
  },
  {
   "cell_type": "markdown",
   "metadata": {},
   "source": [
    "---\n",
    "# lat_ele1\n",
    "```\n",
    "!----------------------------------------------------------------------\n",
    "! parameters associated with given lattice element. \n",
    "! Command syntax: \n",
    "!   python lat_ele1 {ix_universe}@{ix_branch}>>{ix_ele}|{which} {who}\n",
    "! where {which} is one of:\n",
    "!   model\n",
    "!   base\n",
    "!   design\n",
    "! and {who} is one of:\n",
    "!   general         ! ele%xxx compnents where xxx is \"simple\" component (not a structure nor an array, nor allocatable, nor pointer).\n",
    "!   parameters      ! parameters in ele%value array\n",
    "!   multipole       ! nonzero multipole components.\n",
    "!   floor           ! floor coordinates.\n",
    "!   twiss           ! twiss parameters at exit end.\n",
    "!   orbit           ! orbit at exit end.\n",
    "! Example:\n",
    "!   python lat_ele1 1@0>>547|design twiss\n",
    "```"
   ]
  },
  {
   "cell_type": "code",
   "execution_count": 6,
   "metadata": {},
   "outputs": [
    {
     "data": {
      "text/plain": [
       "['beta_a;REAL;F;  2.5847029451031382E+01',\n",
       " 'alpha_a;REAL;F;  2.1522029807789478E+00',\n",
       " 'gamma_a;REAL;F;  2.1789651616035333E-01',\n",
       " 'phi_a;REAL;F;  4.1955497151090576E+01',\n",
       " 'eta_a;REAL;F;  2.5579573697675664E+00',\n",
       " 'etap_a;REAL;F; -2.0093555000137786E-01',\n",
       " 'beta_b;REAL;F;  8.8967644433480757E+00',\n",
       " 'alpha_b;REAL;F; -9.4186104803622284E-01',\n",
       " 'gamma_b;REAL;F;  2.1211107092071421E-01',\n",
       " 'phi_b;REAL;F;  3.7259566522709875E+01',\n",
       " 'eta_b;REAL;F; -1.0698209168574918E-02',\n",
       " 'etap_b;REAL;F; -2.6298269316496221E-03']"
      ]
     },
     "execution_count": 6,
     "metadata": {},
     "output_type": "execute_result"
    }
   ],
   "source": [
    "tao.cmd('python lat_ele1 1@0>>547|design twiss')"
   ]
  },
  {
   "cell_type": "markdown",
   "metadata": {},
   "source": [
    "---\n",
    "# lat_general\n",
    "```\n",
    "!----------------------------------------------------------------------\n",
    "! Lattice general\n",
    "! Command syntax:\n",
    "!   python lat_general {ix_universe}\n",
    "!\n",
    "! Output syntax:\n",
    "!   list of:\n",
    "!   branch_index;branch_name;n_ele_track;n_ele_max\n",
    "```"
   ]
  },
  {
   "cell_type": "code",
   "execution_count": 7,
   "metadata": {},
   "outputs": [
    {
     "data": {
      "text/plain": [
       "['0;CESR;869;1017']"
      ]
     },
     "execution_count": 7,
     "metadata": {},
     "output_type": "execute_result"
    }
   ],
   "source": [
    "tao.cmd('python lat_general 1')"
   ]
  },
  {
   "cell_type": "markdown",
   "metadata": {},
   "source": [
    "---\n",
    "# lat_list\n",
    "```\n",
    "!----------------------------------------------------------------------\n",
    "! List of parameters at ends of lattice elements\n",
    "! Command syntax:\n",
    "!   python lat_list {ix_uni}@{ix_branch}>>{elements}|{which} {who}\n",
    "! where \n",
    "!   {which} is one of:\n",
    "!     model\n",
    "!     base\n",
    "!     design\n",
    "!   {who} is a comma deliminated list of:\n",
    "!     orbit.spin.1, orbit.spin.2, orbit.spin.3,\n",
    "!     orbit.vec.1, orbit.vec.2, orbit.vec.3, orbit.vec.4, orbit.vec.5, orbit.vec.6,\n",
    "!     orbit.t, orbit.beta,\n",
    "!     orbit.state,     ! Note: state is an integer. alive$ = 1, anything else is lost.\n",
    "!     orbit.energy, orbit.pc,\n",
    "!     ele.a.beta, ele.a.alpha, ele.a.eta, ele.a.etap, ele.a.gamma, ele.a.phi,\n",
    "!     ele.b.beta, ele.b.alpha, ele.b.eta, ele.b.etap, ele.b.gamma, ele.b.phi,\n",
    "!     ele.x.eta, ele.x.etap,\n",
    "!     ele.y.eta, ele.y.etap,\n",
    "!     ele.s, ele.l\n",
    "!   {elements} is a string to match element names to. \n",
    "!     Use \"*\" to match to all elements.\n",
    "!     Use the prefix \"track:\" to exclude lord elements.\n",
    "! Note: To output through the real array buffer, add the prefix \"real:\" to {who}. In this\n",
    "! case, {who} must only contain a single item\n",
    "!\n",
    "! Examples:\n",
    "!   python lat_list 3@0>>track:Q*|base ele.s,orbit.vec.2\n",
    "!   python lat_list 3@0>>Q*|base real:ele.s    ! Only a single item permitted with real buffer out.\n",
    "```"
   ]
  },
  {
   "cell_type": "code",
   "execution_count": 8,
   "metadata": {},
   "outputs": [
    {
     "data": {
      "text/plain": [
       "['  1.7550000000000909E+00;  5.4024335771567034E-03',\n",
       " '  2.1627560000000909E+00;  7.7232882216933434E-03',\n",
       " '  3.8739610000000910E+00; -2.0671211795355179E-03',\n",
       " '  5.9324010000000902E+00; -5.6701400121579994E-04',\n",
       " '  1.5179296779194877E+01;  5.4931428801529365E-05',\n",
       " '  1.9964879779194877E+01; -1.9795315932987652E-03',\n",
       " '  2.5010232779194880E+01; -2.4153053101068941E-03',\n",
       " '  3.0055585779194878E+01;  1.0595124323849138E-03',\n",
       " '  3.4686648779194883E+01; -2.5283853904109542E-04',\n",
       " '  4.2710098779194880E+01;  2.7721012114949859E-04']"
      ]
     },
     "execution_count": 8,
     "metadata": {},
     "output_type": "execute_result"
    }
   ],
   "source": [
    "tao.cmd('python lat_list 1@0>>track:Q*|base ele.s,orbit.vec.2')[0:10]"
   ]
  },
  {
   "cell_type": "markdown",
   "metadata": {},
   "source": [
    "---\n",
    "# lat_param_units\n",
    "```\n",
    "!----------------------------------------------------------------------\n",
    "! Units of a parameter associated with a lattice or lattice element.\n",
    "! Command syntax:\n",
    "!   python lat_param_units {param_name}\n",
    "```"
   ]
  },
  {
   "cell_type": "code",
   "execution_count": 9,
   "metadata": {},
   "outputs": [
    {
     "data": {
      "text/plain": [
       "['sec']"
      ]
     },
     "execution_count": 9,
     "metadata": {},
     "output_type": "execute_result"
    }
   ],
   "source": [
    "tao.cmd('python lat_param_units DELTA_REF_TIME')"
   ]
  },
  {
   "cell_type": "markdown",
   "metadata": {},
   "source": [
    "---\n",
    "# orbit_at_s\n",
    "```\n",
    "!----------------------------------------------------------------------\n",
    "! Twiss at given s position.\n",
    "! Command syntax:\n",
    "!   python orbit_at_s {ix_uni}@{ix_branch}>>{s}|{which}\n",
    "! where:\n",
    "!   {which} is one of:\n",
    "!     model\n",
    "!     base\n",
    "!     design\n",
    "!   {s} is the longitudinal s-position.\n",
    "```"
   ]
  },
  {
   "cell_type": "code",
   "execution_count": 10,
   "metadata": {},
   "outputs": [
    {
     "data": {
      "text/plain": [
       "['x;REAL;F; -1.4283315486662465E-02',\n",
       " 'px;REAL;F; -9.1770651474032622E-04',\n",
       " 'y;REAL;F; -2.4362775790407068E-05',\n",
       " 'py;REAL;F;  3.2695404240682013E-06',\n",
       " 'z;REAL;F;  7.5560847477729968E-04',\n",
       " 'pz;REAL;F;  4.7889958323357611E-22',\n",
       " 'spin_x;REAL;F;  0.0000000000000000E+00',\n",
       " 'spin_y;REAL;F;  0.0000000000000000E+00',\n",
       " 'spin_z;REAL;F;  0.0000000000000000E+00',\n",
       " 'field_x;REAL;F;  0.0000000000000000E+00',\n",
       " 'field_y;REAL;F;  0.0000000000000000E+00',\n",
       " 'phase_x;REAL;F;  0.0000000000000000E+00',\n",
       " 'phase_y;REAL;F;  0.0000000000000000E+00',\n",
       " 's;REAL;F;  1.2340000000000001E+02',\n",
       " 't;REAL;F;  4.1161557470700687E-07',\n",
       " 'charge;REAL;F;  0.0000000000000000E+00',\n",
       " 'path_len;REAL;F; -7.4966487042821967E-08',\n",
       " 'p0c;REAL;F;  5.2889999753148117E+09',\n",
       " 'beta;REAL;F;  9.9999999533273032E-01',\n",
       " 'ix_ele;INT;F;154',\n",
       " 'state;STR;F;Alive',\n",
       " 'direction;INT;F;1',\n",
       " 'species;STR;F;Electron',\n",
       " 'location;STR;F;Inside']"
      ]
     },
     "execution_count": 10,
     "metadata": {},
     "output_type": "execute_result"
    }
   ],
   "source": [
    "tao.cmd('python orbit_at_s 1@0>>123.4|model')"
   ]
  },
  {
   "cell_type": "markdown",
   "metadata": {},
   "source": [
    "---\n",
    "# twiss_at_s\n",
    "```\n",
    "!----------------------------------------------------------------------\n",
    "! Twiss at given s position\n",
    "! Command syntax:\n",
    "!   python twiss_at_s {ix_uni}@{ix_branch}>>{s}|{which}\n",
    "! where {which} is one of:\n",
    "!   model\n",
    "!   base\n",
    "!   design\n",
    "\n",
    "\n",
    "```"
   ]
  },
  {
   "cell_type": "code",
   "execution_count": 11,
   "metadata": {},
   "outputs": [
    {
     "data": {
      "text/plain": [
       "['beta_a;REAL;F;  2.3936476433977116E+01',\n",
       " 'alpha_a;REAL;F; -1.6582993556168628E+00',\n",
       " 'gamma_a;REAL;F;  1.5666285567061786E-01',\n",
       " 'phi_a;REAL;F;  1.2012730929452978E+01',\n",
       " 'eta_a;REAL;F;  1.8962892857950560E+00',\n",
       " 'etap_a;REAL;F;  9.0584781722138463E-02',\n",
       " 'beta_b;REAL;F;  6.6597108588328897E+00',\n",
       " 'alpha_b;REAL;F;  7.4925178541400017E-01',\n",
       " 'gamma_b;REAL;F;  2.3445135547817125E-01',\n",
       " 'phi_b;REAL;F;  9.3632575766697155E+00',\n",
       " 'eta_b;REAL;F; -8.6363972938341971E-03',\n",
       " 'etap_b;REAL;F;  1.1319913794046398E-03']"
      ]
     },
     "execution_count": 11,
     "metadata": {},
     "output_type": "execute_result"
    }
   ],
   "source": [
    "tao.cmd('python twiss_at_s 1@0>>123.4|model')"
   ]
  }
 ],
 "metadata": {
  "kernelspec": {
   "display_name": "Python 3",
   "language": "python",
   "name": "python3"
  },
  "language_info": {
   "codemirror_mode": {
    "name": "ipython",
    "version": 3
   },
   "file_extension": ".py",
   "mimetype": "text/x-python",
   "name": "python",
   "nbconvert_exporter": "python",
   "pygments_lexer": "ipython3",
   "version": "3.7.3"
  }
 },
 "nbformat": 4,
 "nbformat_minor": 2
}
